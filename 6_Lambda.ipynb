{
 "cells": [
  {
   "cell_type": "markdown",
   "metadata": {},
   "source": [
    "# Lambda Functions aka Anonymous Functions\n",
    "  \n",
    "## 0. Background and Overview\n",
    "\n",
    "Sometimes you need a function to handle a task, but don't want to take up multiple lines of code to do one simple task.  I present you... Lambda Functions\n",
    "\n",
    "### For this we will cover:\n",
    "\n",
    "### 1. Lambda Typical Use Case\n",
    "\n",
    "### 2. Lambda Basics\n",
    "    \n",
    "### 3. Lambda Application\n",
    "e.g., map, reduce"
   ]
  },
  {
   "cell_type": "markdown",
   "metadata": {},
   "source": [
    "## 1. Lambda Typical Use Case\n",
    "\n",
    "In the last tutorial on 'functions', we found the number of lines an actor had by analyzing 'The Office' script dataset:"
   ]
  },
  {
   "cell_type": "code",
   "execution_count": 2,
   "metadata": {},
   "outputs": [],
   "source": [
    "actor_lines = {'Michael': 12137,\n",
    " 'Pam': 5375,\n",
    " 'Dwight': 7529,\n",
    " 'Angela': 1695,\n",
    " 'Kelly': 956,\n",
    " 'Jim': 6814,\n",
    " 'Andy': 3968,\n",
    " 'Kevin': 1708,\n",
    " 'Phyllis': 1071,\n",
    " 'Meredith': 645,\n",
    " 'Oscar': 1490}"
   ]
  },
  {
   "cell_type": "markdown",
   "metadata": {},
   "source": [
    "The problem is we want this dictionary sorted by the values...\n",
    "\n",
    "### Option 1: Sort with a function"
   ]
  },
  {
   "cell_type": "code",
   "execution_count": 3,
   "metadata": {},
   "outputs": [
    {
     "data": {
      "text/plain": [
       "dict_items([('Michael', 12137), ('Pam', 5375), ('Dwight', 7529), ('Angela', 1695), ('Kelly', 956), ('Jim', 6814), ('Andy', 3968), ('Kevin', 1708), ('Phyllis', 1071), ('Meredith', 645), ('Oscar', 1490)])"
      ]
     },
     "execution_count": 3,
     "metadata": {},
     "output_type": "execute_result"
    }
   ],
   "source": [
    "actor_lines.items()"
   ]
  },
  {
   "cell_type": "code",
   "execution_count": 18,
   "metadata": {},
   "outputs": [
    {
     "data": {
      "text/plain": [
       "[('Michael', 12137),\n",
       " ('Dwight', 7529),\n",
       " ('Jim', 6814),\n",
       " ('Pam', 5375),\n",
       " ('Andy', 3968),\n",
       " ('Kevin', 1708),\n",
       " ('Angela', 1695),\n",
       " ('Oscar', 1490),\n",
       " ('Phyllis', 1071),\n",
       " ('Kelly', 956),\n",
       " ('Meredith', 645)]"
      ]
     },
     "execution_count": 18,
     "metadata": {},
     "output_type": "execute_result"
    }
   ],
   "source": [
    "def sort_by_key(item):\n",
    "    return item[1]\n",
    "\n",
    "sorted(actor_lines.items(), key=sort_by_key, reverse=True)"
   ]
  },
  {
   "cell_type": "markdown",
   "metadata": {},
   "source": [
    "### Option 2: Sort with a lambda function (& sorted())"
   ]
  },
  {
   "cell_type": "code",
   "execution_count": 23,
   "metadata": {},
   "outputs": [
    {
     "data": {
      "text/plain": [
       "[('Michael', 12137),\n",
       " ('Dwight', 7529),\n",
       " ('Jim', 6814),\n",
       " ('Pam', 5375),\n",
       " ('Andy', 3968),\n",
       " ('Kevin', 1708),\n",
       " ('Angela', 1695),\n",
       " ('Oscar', 1490),\n",
       " ('Phyllis', 1071),\n",
       " ('Kelly', 956),\n",
       " ('Meredith', 645)]"
      ]
     },
     "execution_count": 23,
     "metadata": {},
     "output_type": "execute_result"
    }
   ],
   "source": [
    "sorted(actor_lines.items(), key=lambda item: item[1], reverse=True)\n",
    "# One line of code and more readable"
   ]
  },
  {
   "cell_type": "code",
   "execution_count": 25,
   "metadata": {},
   "outputs": [],
   "source": [
    "def return_num_v1(num):\n",
    "    return num  #two lines, not concise"
   ]
  },
  {
   "cell_type": "code",
   "execution_count": 26,
   "metadata": {},
   "outputs": [
    {
     "data": {
      "text/plain": [
       "1"
      ]
     },
     "execution_count": 26,
     "metadata": {},
     "output_type": "execute_result"
    }
   ],
   "source": [
    "return_num_v1(1)"
   ]
  },
  {
   "cell_type": "code",
   "execution_count": 27,
   "metadata": {},
   "outputs": [
    {
     "data": {
      "text/plain": [
       "<function __main__.<lambda>(num)>"
      ]
     },
     "execution_count": 27,
     "metadata": {},
     "output_type": "execute_result"
    }
   ],
   "source": [
    "lambda num:num #this is a function in itself"
   ]
  },
  {
   "cell_type": "markdown",
   "metadata": {},
   "source": [
    "<img width=\"623\" alt=\"Screen Shot 2022-07-24 at 6 06 53 AM\" src=\"https://user-images.githubusercontent.com/67531201/180624559-54943915-290f-4d98-8e91-816c77d6c1a9.png\">"
   ]
  },
  {
   "cell_type": "code",
   "execution_count": 28,
   "metadata": {},
   "outputs": [],
   "source": [
    "return_num_v2 =  lambda num:num \n"
   ]
  },
  {
   "cell_type": "code",
   "execution_count": 30,
   "metadata": {},
   "outputs": [
    {
     "data": {
      "text/plain": [
       "456"
      ]
     },
     "execution_count": 30,
     "metadata": {},
     "output_type": "execute_result"
    }
   ],
   "source": [
    "return_num_v2(456)"
   ]
  },
  {
   "cell_type": "code",
   "execution_count": 32,
   "metadata": {},
   "outputs": [
    {
     "data": {
      "text/plain": [
       "36"
      ]
     },
     "execution_count": 32,
     "metadata": {},
     "output_type": "execute_result"
    }
   ],
   "source": [
    "(lambda num:num)(36)"
   ]
  },
  {
   "cell_type": "code",
   "execution_count": null,
   "metadata": {},
   "outputs": [],
   "source": [
    "add = lambda x, y: x+y"
   ]
  },
  {
   "cell_type": "code",
   "execution_count": 34,
   "metadata": {},
   "outputs": [
    {
     "data": {
      "text/plain": [
       "<function __main__.<lambda>(a, b)>"
      ]
     },
     "execution_count": 34,
     "metadata": {},
     "output_type": "execute_result"
    }
   ],
   "source": [
    "add"
   ]
  },
  {
   "cell_type": "code",
   "execution_count": 33,
   "metadata": {},
   "outputs": [
    {
     "data": {
      "text/plain": [
       "9"
      ]
     },
     "execution_count": 33,
     "metadata": {},
     "output_type": "execute_result"
    }
   ],
   "source": [
    "add(4,5)"
   ]
  },
  {
   "cell_type": "markdown",
   "metadata": {},
   "source": [
    "For those curious this is how you would use dictionary comprehension to convert back into a dictionary"
   ]
  },
  {
   "cell_type": "code",
   "execution_count": 6,
   "metadata": {},
   "outputs": [
    {
     "data": {
      "text/plain": [
       "{'Michael': 12137,\n",
       " 'Dwight': 7529,\n",
       " 'Jim': 6814,\n",
       " 'Pam': 5375,\n",
       " 'Andy': 3968,\n",
       " 'Kevin': 1708,\n",
       " 'Angela': 1695,\n",
       " 'Oscar': 1490,\n",
       " 'Phyllis': 1071,\n",
       " 'Kelly': 956,\n",
       " 'Meredith': 645}"
      ]
     },
     "execution_count": 6,
     "metadata": {},
     "output_type": "execute_result"
    }
   ],
   "source": [
    "{key: value for key, value in sorted(actor_lines.items(), key=lambda item: item[1], reverse=True)}"
   ]
  },
  {
   "cell_type": "markdown",
   "metadata": {},
   "source": [
    "## 2. Lambda Basics"
   ]
  },
  {
   "cell_type": "code",
   "execution_count": 7,
   "metadata": {},
   "outputs": [],
   "source": [
    "copy = lambda x : x"
   ]
  },
  {
   "cell_type": "code",
   "execution_count": 8,
   "metadata": {},
   "outputs": [
    {
     "data": {
      "text/plain": [
       "1"
      ]
     },
     "execution_count": 8,
     "metadata": {},
     "output_type": "execute_result"
    }
   ],
   "source": [
    "copy(1)"
   ]
  },
  {
   "cell_type": "code",
   "execution_count": 9,
   "metadata": {},
   "outputs": [
    {
     "data": {
      "text/plain": [
       "2"
      ]
     },
     "execution_count": 9,
     "metadata": {},
     "output_type": "execute_result"
    }
   ],
   "source": [
    "(lambda x : x)(2)"
   ]
  },
  {
   "cell_type": "code",
   "execution_count": 10,
   "metadata": {},
   "outputs": [],
   "source": [
    "add = lambda a, b: a + b"
   ]
  },
  {
   "cell_type": "code",
   "execution_count": 11,
   "metadata": {},
   "outputs": [
    {
     "data": {
      "text/plain": [
       "3"
      ]
     },
     "execution_count": 11,
     "metadata": {},
     "output_type": "execute_result"
    }
   ],
   "source": [
    "add(1 , 2)"
   ]
  },
  {
   "cell_type": "code",
   "execution_count": 35,
   "metadata": {},
   "outputs": [
    {
     "data": {
      "text/plain": [
       "'Jim'"
      ]
     },
     "execution_count": 35,
     "metadata": {},
     "output_type": "execute_result"
    }
   ],
   "source": [
    "actor_list = ['Michael', 'Pam', 'Jim', 'Dwight']\n",
    "\n",
    "get_third = lambda list: list[2]    # Python indexed at 0\n",
    "\n",
    "get_third(actor_list)"
   ]
  },
  {
   "cell_type": "code",
   "execution_count": 36,
   "metadata": {},
   "outputs": [
    {
     "data": {
      "text/plain": [
       "'Dwight'"
      ]
     },
     "execution_count": 36,
     "metadata": {},
     "output_type": "execute_result"
    }
   ],
   "source": [
    "actor_list = ['Michael', 'Pam', 'Jim', 'Dwight']\n",
    "\n",
    "get_fourth = lambda list: list[3]   \n",
    "\n",
    "get_fourth(actor_list)"
   ]
  },
  {
   "cell_type": "markdown",
   "metadata": {},
   "source": [
    "### Applying back to the use case in section 1"
   ]
  },
  {
   "cell_type": "code",
   "execution_count": 13,
   "metadata": {},
   "outputs": [
    {
     "data": {
      "text/plain": [
       "dict_items([('Michael', 12137), ('Pam', 5375), ('Dwight', 7529), ('Angela', 1695), ('Kelly', 956), ('Jim', 6814), ('Andy', 3968), ('Kevin', 1708), ('Phyllis', 1071), ('Meredith', 645), ('Oscar', 1490)])"
      ]
     },
     "execution_count": 13,
     "metadata": {},
     "output_type": "execute_result"
    }
   ],
   "source": [
    "# Recall items() method returns a dictionary as an iterable\n",
    "actor_lines.items()     "
   ]
  },
  {
   "cell_type": "code",
   "execution_count": 38,
   "metadata": {},
   "outputs": [
    {
     "data": {
      "text/plain": [
       "('Michael', 12137)"
      ]
     },
     "execution_count": 38,
     "metadata": {},
     "output_type": "execute_result"
    }
   ],
   "source": [
    "# Looking at the first item of the iterable\n",
    "michael_lines = list(actor_lines.items())[0]\n",
    "michael_lines"
   ]
  },
  {
   "cell_type": "code",
   "execution_count": 37,
   "metadata": {},
   "outputs": [
    {
     "data": {
      "text/plain": [
       "12137"
      ]
     },
     "execution_count": 37,
     "metadata": {},
     "output_type": "execute_result"
    }
   ],
   "source": [
    "# lambda to get the 2nd item in the tuple\n",
    "get_value = lambda tuple : tuple[1]\n",
    "\n",
    "get_value(michael_lines)"
   ]
  },
  {
   "cell_type": "code",
   "execution_count": 16,
   "metadata": {},
   "outputs": [
    {
     "data": {
      "text/plain": [
       "[('Meredith', 645),\n",
       " ('Kelly', 956),\n",
       " ('Phyllis', 1071),\n",
       " ('Oscar', 1490),\n",
       " ('Angela', 1695),\n",
       " ('Kevin', 1708),\n",
       " ('Andy', 3968),\n",
       " ('Pam', 5375),\n",
       " ('Jim', 6814),\n",
       " ('Dwight', 7529),\n",
       " ('Michael', 12137)]"
      ]
     },
     "execution_count": 16,
     "metadata": {},
     "output_type": "execute_result"
    }
   ],
   "source": [
    "# Sorted uses the second argument 'key' (obtained by lambda) to sort the list (actor_lines)\n",
    "sorted(actor_lines.items(), key=lambda item: item[1])"
   ]
  },
  {
   "cell_type": "markdown",
   "metadata": {},
   "source": [
    "## 3. Applicatiion\n",
    "\n",
    "3a. With a list of numbers extract out only odd numbers  \n",
    "3b. With a list of phrases, add a token statement"
   ]
  },
  {
   "cell_type": "markdown",
   "metadata": {},
   "source": [
    "### 3a. Use filter() to extract values from a list:\n",
    "\n",
    "```python\n",
    "filter(function, iterable)\n",
    "```\n",
    "\n",
    "Filters an iterable for values of a function returned as True"
   ]
  },
  {
   "cell_type": "code",
   "execution_count": 40,
   "metadata": {},
   "outputs": [
    {
     "data": {
      "text/plain": [
       "[135, 111]"
      ]
     },
     "execution_count": 40,
     "metadata": {},
     "output_type": "execute_result"
    }
   ],
   "source": [
    "list(filter(lambda num: num % 2 == 1, dwight_sales)) ##create a lambda function to check if it is odd number"
   ]
  },
  {
   "cell_type": "markdown",
   "metadata": {},
   "source": [
    "### 3b. Use map() to perform an operation on each item of a list:\n",
    "```python\n",
    "map(function, iterable)\n",
    "```\n",
    "Remaps a list to apply a function to each iterable"
   ]
  },
  {
   "cell_type": "code",
   "execution_count": 42,
   "metadata": {},
   "outputs": [],
   "source": [
    "she_said = [\"No, thanks. I'm good.\",\n",
    " 'Does the skin look red and swollen?',\n",
    " 'You already did me.',\n",
    " \"I mean, they're just dough twisted up with some candy. They taste so good in my mouth.\",\n",
    " 'Thanks! I, I wanna give you something.',\n",
    " \"Let's just blow this party off.\",\n",
    " \"Yeah, I'm definitely gonna go alone.\",\n",
    " \"Well, I don't think I'll be here in ten years.\",\n",
    " 'And you were directly under her the entire time?',\n",
    " 'Excuse me?',\n",
    " 'Can you go back to where this digression began?',\n",
    " 'And... go. [Michael sticks his face in the cement] Force it in as deep as you can.',\n",
    " \"[sitting on a stack of paper] Yeah, well, if you're only free till three on Sunday and I can't get there till one, then it's gonna be pretty tight.\",\n",
    " \"Michael. Don't. Don't. Don't make it harder than it has to be.\",\n",
    " 'Dwight, get out of my nook!',\n",
    " 'Alright Dwight. This is huge.',\n",
    " 'You need to get back on top.',\n",
    " 'Michael! You are making this harder than it has to be.',\n",
    " 'I was in love with you.']"
   ]
  },
  {
   "cell_type": "code",
   "execution_count": 45,
   "metadata": {},
   "outputs": [],
   "source": [
    "she_said_rev = list(map(lambda n: n + \" That's what she said!\", she_said)) #add astring to the end of each string\n",
    "# she_said_rev"
   ]
  },
  {
   "cell_type": "code",
   "execution_count": 46,
   "metadata": {},
   "outputs": [
    {
     "data": {
      "text/plain": [
       "<map at 0x10b065e20>"
      ]
     },
     "execution_count": 46,
     "metadata": {},
     "output_type": "execute_result"
    }
   ],
   "source": [
    "map(lambda n: n + \" That's what she said!\", she_said)\n",
    "#this is a map object"
   ]
  },
  {
   "cell_type": "code",
   "execution_count": 44,
   "metadata": {},
   "outputs": [
    {
     "data": {
      "text/plain": [
       "[\"No, thanks. I'm good. That's what she said!\",\n",
       " \"Does the skin look red and swollen? That's what she said!\",\n",
       " \"You already did me. That's what she said!\",\n",
       " \"I mean, they're just dough twisted up with some candy. They taste so good in my mouth. That's what she said!\",\n",
       " \"Thanks! I, I wanna give you something. That's what she said!\",\n",
       " \"Let's just blow this party off. That's what she said!\",\n",
       " \"Yeah, I'm definitely gonna go alone. That's what she said!\",\n",
       " \"Well, I don't think I'll be here in ten years. That's what she said!\",\n",
       " \"And you were directly under her the entire time? That's what she said!\",\n",
       " \"Excuse me? That's what she said!\",\n",
       " \"Can you go back to where this digression began? That's what she said!\",\n",
       " \"And... go. [Michael sticks his face in the cement] Force it in as deep as you can. That's what she said!\",\n",
       " \"[sitting on a stack of paper] Yeah, well, if you're only free till three on Sunday and I can't get there till one, then it's gonna be pretty tight. That's what she said!\",\n",
       " \"Michael. Don't. Don't. Don't make it harder than it has to be. That's what she said!\",\n",
       " \"Dwight, get out of my nook! That's what she said!\",\n",
       " \"Alright Dwight. This is huge. That's what she said!\",\n",
       " \"You need to get back on top. That's what she said!\",\n",
       " \"Michael! You are making this harder than it has to be. That's what she said!\",\n",
       " \"I was in love with you. That's what she said!\"]"
      ]
     },
     "execution_count": 44,
     "metadata": {},
     "output_type": "execute_result"
    }
   ],
   "source": [
    "she_said_rev"
   ]
  },
  {
   "cell_type": "code",
   "execution_count": null,
   "metadata": {},
   "outputs": [],
   "source": []
  }
 ],
 "metadata": {
  "kernelspec": {
   "display_name": "Python 3.9.13 64-bit",
   "language": "python",
   "name": "python3"
  },
  "language_info": {
   "codemirror_mode": {
    "name": "ipython",
    "version": 3
   },
   "file_extension": ".py",
   "mimetype": "text/x-python",
   "name": "python",
   "nbconvert_exporter": "python",
   "pygments_lexer": "ipython3",
   "version": "3.9.13"
  },
  "orig_nbformat": 2,
  "vscode": {
   "interpreter": {
    "hash": "b0fa6594d8f4cbf19f97940f81e996739fb7646882a419484c72d19e05852a7e"
   }
  }
 },
 "nbformat": 4,
 "nbformat_minor": 2
}
